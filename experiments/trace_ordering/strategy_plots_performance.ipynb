{
 "cells": [
  {
   "cell_type": "code",
   "execution_count": null,
   "metadata": {},
   "outputs": [],
   "source": [
    "import pickle\n",
    "import pandas as pd\n",
    "import seaborn as sns\n",
    "import os\n",
    "import matplotlib.pyplot as plt\n",
    "from matplotlib.ticker import MultipleLocator"
   ]
  },
  {
   "cell_type": "code",
   "execution_count": null,
   "metadata": {},
   "outputs": [],
   "source": [
    "sns.set_theme(font=\"Arial\", style=\"whitegrid\", rc={\"figure.figsize\": (5, 4)})"
   ]
  },
  {
   "cell_type": "code",
   "execution_count": null,
   "metadata": {},
   "outputs": [],
   "source": [
    "log_folder_name = \"hospital_filtered\"\n",
    "folder_path = os.path.join(\".\", \"results\", log_folder_name)\n",
    "pickle_files = [file for file in os.listdir(folder_path) if file.endswith(\".pickle\")]\n",
    "pickle_files"
   ]
  },
  {
   "cell_type": "code",
   "execution_count": null,
   "metadata": {},
   "outputs": [],
   "source": [
    "with open(\n",
    "    os.path.join(\n",
    "        folder_path,\n",
    "        pickle_files[0],\n",
    "    ),\n",
    "    \"rb\",\n",
    ") as file:\n",
    "    data = pickle.load(file)\n",
    "duration_df = pd.DataFrame(index=range(len(data)))\n",
    "\n",
    "for file_name in pickle_files:\n",
    "    file_path = os.path.join(folder_path, file_name)\n",
    "    if len(file_path.split(\"__\")) == 3:\n",
    "        log_name, strategy, ending = file_path.split(\"__\")\n",
    "    with open(file_path, \"rb\") as file:\n",
    "        data = pickle.load(file)\n",
    "        duration_ds = pd.Series(\n",
    "            list(map(lambda iteration: iteration[\"duration\"], data)),\n",
    "            name=strategy,\n",
    "        )\n",
    "        duration_df = pd.concat([duration_df, duration_ds], axis=1)"
   ]
  },
  {
   "cell_type": "code",
   "execution_count": null,
   "metadata": {},
   "outputs": [],
   "source": [
    "duration_df = duration_df.drop(columns=\"F_1.0\")"
   ]
  },
  {
   "cell_type": "code",
   "execution_count": null,
   "metadata": {},
   "outputs": [],
   "source": [
    "durations = duration_df.sum()\n",
    "durations.index = durations.index.str.split(\"_\", expand=True)\n",
    "durations = durations.reset_index()\n",
    "durations = durations.rename(\n",
    "    columns={\"level_0\": \"strategy\", \"level_1\": \"filter_rate\", 0: \"duration\"}\n",
    ")\n",
    "durations = durations.sort_values(\n",
    "    by=[\"strategy\", \"filter_rate\"], ascending=[False, True]\n",
    ")\n",
    "durations[\"duration\"] = durations[\"duration\"] / 60\n",
    "durations[\"combined\"] = (\n",
    "    durations[\"strategy\"] + \"_\" + durations[\"filter_rate\"].astype(str)\n",
    ")\n",
    "durations"
   ]
  },
  {
   "cell_type": "code",
   "execution_count": null,
   "metadata": {},
   "outputs": [],
   "source": [
    "legend_mapping = {\n",
    "    \"LHCMDB_0.1\": \"#f6a120\",\n",
    "    \"LHCMDB_0.2\": \"#d88d05\",\n",
    "    \"LHCMDB_0.4\": \"#b27407\",\n",
    "    \"LHCMDB_0.7\": \"#8c5c02\",\n",
    "    \"CHLDMB_0.1\": \"#0f8112\",\n",
    "    \"CHLDMB_0.2\": \"#0e6f0e\",\n",
    "    \"CHLDMB_0.4\": \"#0c5c0a\",\n",
    "    \"CHLDMB_0.7\": \"#064906\",\n",
    "    \"HCDMLB_0.1\": \"#ece232\",\n",
    "    \"HCDMLB_0.2\": \"#d9d909\",\n",
    "    \"HCDMLB_0.4\": \"#b2b303\",\n",
    "    \"HCDMLB_0.7\": \"#8c8c08\",\n",
    "    \"CDLHMB_0.1\": \"#d583c9\",\n",
    "    \"CDLHMB_0.2\": \"#c459b2\",\n",
    "    \"CDLHMB_0.4\": \"#b93ca7\",\n",
    "    \"CDLHMB_0.7\": \"#aa21a2\",\n",
    "    \"B_1.0\": \"#848484\",\n",
    "    # \"F_1.0\": \"#000000\",\n",
    "}"
   ]
  },
  {
   "cell_type": "code",
   "execution_count": null,
   "metadata": {},
   "outputs": [],
   "source": [
    "bar_width = 0.1\n",
    "strategy_spacing = 0.1\n",
    "ticks_fontsize = 9\n",
    "\n",
    "x_offsets = [0]\n",
    "groupby = durations.groupby(\"strategy\")\n",
    "# Group data by strategy and iterate over groups\n",
    "for strategy, group in groupby:\n",
    "    # Calculate x positions for bars within the group\n",
    "    x_positions = [x_offsets[-1] + bar_width * j for j in range(len(group))]\n",
    "    x_offsets.append(x_positions[-1] + bar_width + strategy_spacing)\n",
    "    # Plot bars for each filter rate within the group\n",
    "    for x, (filter_rate, duration) in zip(\n",
    "        x_positions, group[[\"filter_rate\", \"duration\"]].values\n",
    "    ):\n",
    "        plt.bar(\n",
    "            x,\n",
    "            duration,\n",
    "            width=bar_width,\n",
    "            color=legend_mapping[f\"{strategy}_{filter_rate}\"],\n",
    "            label=strategy,\n",
    "            align=\"edge\",\n",
    "        )\n",
    "        plt.text(\n",
    "            x + bar_width / 2 + 0.02,\n",
    "            duration * 0.8,\n",
    "            f\"F-Rate: {filter_rate}\",\n",
    "            ha=\"center\",\n",
    "            va=\"top\",\n",
    "            rotation=90,\n",
    "            fontsize=8,\n",
    "        )\n",
    "\n",
    "plt.ylabel(\"Computation Time (m)\")\n",
    "plt.ylim(1, 10**5)\n",
    "\n",
    "plt.yscale(\"log\")\n",
    "plt.yticks(fontsize=ticks_fontsize)\n",
    "\n",
    "plt.xlabel(\"Trace Ordering Strategies\")\n",
    "plt.xticks(\n",
    "    [\n",
    "        (x + x_offsets[i + 1] - strategy_spacing) / 2\n",
    "        for i, x in enumerate(x_offsets[:-1])\n",
    "    ],\n",
    "    list(map(lambda x: \"-\".join(x[0]), groupby)),\n",
    "    fontsize=ticks_fontsize,\n",
    ")\n",
    "\n",
    "plt.savefig(\n",
    "    f\"figures/{log_folder_name}/{log_folder_name}_strategy_performance_comparison.png\",\n",
    "    bbox_inches=\"tight\",\n",
    ")"
   ]
  },
  {
   "cell_type": "code",
   "execution_count": null,
   "metadata": {},
   "outputs": [],
   "source": []
  }
 ],
 "metadata": {
  "kernelspec": {
   "display_name": "cortado-core",
   "language": "python",
   "name": "python3"
  },
  "language_info": {
   "codemirror_mode": {
    "name": "ipython",
    "version": 3
   },
   "file_extension": ".py",
   "mimetype": "text/x-python",
   "name": "python",
   "nbconvert_exporter": "python",
   "pygments_lexer": "ipython3",
   "version": "3.10.10"
  }
 },
 "nbformat": 4,
 "nbformat_minor": 2
}
